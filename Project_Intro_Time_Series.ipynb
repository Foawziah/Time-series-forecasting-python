{
 "cells": [
  {
   "cell_type": "markdown",
   "metadata": {},
   "source": [
    "# Introduction to Time Series 📈"
   ]
  },
  {
   "cell_type": "markdown",
   "metadata": {},
   "source": [
    "Goodbye (for now): infrastructure, AWS, databases, docker Hello (again): machine learning, jupyter, plots!"
   ]
  },
  {
   "cell_type": "markdown",
   "metadata": {},
   "source": [
    "Q: What examples of time series data can you think of?\n",
    "- weather\n",
    "- stock market\n",
    "- energy consumption\n",
    "- earthquakes\n",
    "- COVID (infections)\n",
    "- seasonality: cyclic \n",
    "- trend: mean changes in the course of time\n",
    "- bike sharing project?"
   ]
  },
  {
   "cell_type": "markdown",
   "metadata": {},
   "source": [
    "Q: What is special about time series data?\n",
    "- features consist of \"y\" in different dimensions (e.g. \"lag\")\n",
    "- \"x\": time"
   ]
  },
  {
   "cell_type": "markdown",
   "metadata": {},
   "source": [
    "## Two step approach:"
   ]
  },
  {
   "cell_type": "markdown",
   "metadata": {},
   "source": [
    "### Decomposition (Tuesday am)"
   ]
  },
  {
   "cell_type": "markdown",
   "metadata": {},
   "source": [
    "#### Time series elements: \n",
    "* Trend\n",
    "* Seasonality\n",
    "* Remainder"
   ]
  },
  {
   "cell_type": "markdown",
   "metadata": {},
   "source": [
    "##### Remainder:\n",
    "`remainder = time_series - trend - seasonality`\n",
    "* This is the part we are interested in this week; this is the part that we're trying to model\n",
    "* The models we use have the assumption of stationarity — statistical characteristics of the time series, e.g. mean, standard deviation, correlation, don't change over time — which is why decompose the time series first"
   ]
  },
  {
   "cell_type": "markdown",
   "metadata": {},
   "source": []
  },
  {
   "cell_type": "markdown",
   "metadata": {},
   "source": [
    "### Autoregression (AR: Wednesday am, ARIMA: Thursday pm)"
   ]
  },
  {
   "cell_type": "markdown",
   "metadata": {},
   "source": [
    "* Look at the remainder and model (e.g. linear regression) how the remainder at time t depends on the remainder at times before t."
   ]
  },
  {
   "cell_type": "markdown",
   "metadata": {},
   "source": [
    "## Your Project for the Week"
   ]
  },
  {
   "cell_type": "markdown",
   "metadata": {},
   "source": [
    "### Goal: build a model that is able to make short term temperature forecasts"
   ]
  },
  {
   "cell_type": "markdown",
   "metadata": {},
   "source": [
    "### Data\n",
    "* for the project:\n",
    "- temperature data, daily mean temperatures for the weather station of your choice!\n",
    "- follow instructions in the course materials\n",
    "\n",
    "* for the encounters:\n",
    "- flights dataset, # of monthly airline passengers between 1949 and 1960"
   ]
  },
  {
   "cell_type": "markdown",
   "metadata": {},
   "source": [
    "### Your tasks\n",
    "* Download the data\n",
    "* EDA:\n",
    "- Clean data\n",
    "- Plot data\n",
    "- Decide on final dataset/timeframe to use"
   ]
  },
  {
   "cell_type": "markdown",
   "metadata": {},
   "source": []
  }
 ],
 "metadata": {
  "kernelspec": {
   "display_name": "Python 3 (ipykernel)",
   "language": "python",
   "name": "python3"
  },
  "language_info": {
   "codemirror_mode": {
    "name": "ipython",
    "version": 3
   },
   "file_extension": ".py",
   "mimetype": "text/x-python",
   "name": "python",
   "nbconvert_exporter": "python",
   "pygments_lexer": "ipython3",
   "version": "3.8.15"
  }
 },
 "nbformat": 4,
 "nbformat_minor": 2
}
